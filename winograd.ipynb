{
 "cells": [
  {
   "cell_type": "code",
   "execution_count": 73,
   "metadata": {},
   "outputs": [],
   "source": [
    "import numpy as np\n",
    "from math import ceil\n",
    "import torch"
   ]
  },
  {
   "cell_type": "code",
   "execution_count": 74,
   "metadata": {},
   "outputs": [],
   "source": [
    "# implementation for F(4 \\times 4, 3 \\times 3) for NCHW data\n",
    "m = 4;\n",
    "r = 3;\n",
    "alpha = m + r -1;\n",
    "\n",
    "N = 1;\n",
    "C = 3;\n",
    "H = 128;\n",
    "W = 128;\n",
    "K = 16;\n",
    "kH = r;\n",
    "kW = r;\n",
    "newH = H - kH + 1;\n",
    "newW = W - kW + 1;\n",
    "\n",
    "BLOCK_PER_ROW =   ceil( W / m );\n",
    "BLOCK_PER_COLUMN = ceil( H / m );\n",
    "P = BLOCK_PER_COLUMN * BLOCK_PER_ROW;"
   ]
  },
  {
   "cell_type": "code",
   "execution_count": 75,
   "metadata": {},
   "outputs": [],
   "source": [
    "d = np.ones([N,C,H,W],dtype=np.float)\n",
    "g = np.ones([K,C,kH,kW],dtype=np.float)"
   ]
  },
  {
   "cell_type": "code",
   "execution_count": 76,
   "metadata": {},
   "outputs": [
    {
     "data": {
      "text/plain": [
       "array([[ 0.0625    , -0.125     , -0.04166667,  0.07291667,  0.03125   ,\n",
       "         0.25      ],\n",
       "       [-0.125     ,  0.25      ,  0.08333333, -0.14583333, -0.0625    ,\n",
       "        -0.5       ],\n",
       "       [-0.04166667,  0.08333333,  0.02777778, -0.04861111, -0.02083333,\n",
       "        -0.16666667],\n",
       "       [ 0.07291667, -0.14583333, -0.04861111,  0.08506944,  0.03645833,\n",
       "         0.29166667],\n",
       "       [ 0.03125   , -0.0625    , -0.02083333,  0.03645833,  0.015625  ,\n",
       "         0.125     ],\n",
       "       [ 0.25      , -0.5       , -0.16666667,  0.29166667,  0.125     ,\n",
       "         1.        ]])"
      ]
     },
     "execution_count": 76,
     "metadata": {},
     "output_type": "execute_result"
    }
   ],
   "source": [
    "\n",
    "G = np.array([\n",
    "    [1.0/4,0,0],\n",
    "    [-1.0/6,-1.0/6,-1.0/6],\n",
    "    [-1.0/6,1.0/6,-1.0/6],\n",
    "    [1.0/24,1.0/12,1.0/6],\n",
    "    [1.0/24,-1.0/12,1.0/6],\n",
    "    [0,0,1]\n",
    "])\n",
    "\n",
    "U = np.matmul( np.matmul(G,g),G.transpose() )\n",
    "U.shape # N,C,alpha,alpha\n",
    "U[0,0,:,:]"
   ]
  },
  {
   "cell_type": "code",
   "execution_count": 77,
   "metadata": {},
   "outputs": [
    {
     "data": {
      "text/plain": [
       "array([[ 0.,  0.,  0.,  0.,  0.,  0.],\n",
       "       [ 0., 36.,  0.,  0.,  0.,  0.],\n",
       "       [ 0.,  0.,  0.,  0.,  0.,  0.],\n",
       "       [ 0.,  0.,  0.,  0.,  0.,  0.],\n",
       "       [ 0.,  0.,  0.,  0.,  0.,  0.],\n",
       "       [ 0.,  0.,  0.,  0.,  0.,  0.]])"
      ]
     },
     "execution_count": 77,
     "metadata": {},
     "output_type": "execute_result"
    }
   ],
   "source": [
    "Bt = [  \n",
    "        [4,0,-5,0,1,0],[0,-4,-4,1,1,0],\n",
    "        [0,4,-4,-1,1,0],[0,-2,-1,2,1,0],\n",
    "        [0,2,-1,-2,1,0],[0,4,0,-5,0,1] \n",
    "    ]\n",
    "Bt = np.array(Bt,dtype=np.float)\n",
    "\n",
    "tmp = np.zeros([N,C,H+kH-1,W+kW-1])\n",
    "tmp[:,:,0:H,0:W] = d;\n",
    "tmpD = []\n",
    "for n in range(N):\n",
    "    for c in range(C):\n",
    "        for i in range(BLOCK_PER_COLUMN):\n",
    "            for j in range(BLOCK_PER_ROW):\n",
    "                tmpD.append(tmp[n,c,i:i+alpha,j:j+alpha])\n",
    "tmpD = np.array(tmpD)\n",
    "tmpD = tmpD.reshape([N,C,P,alpha,alpha])\n",
    "\n",
    "V = np.matmul( np.matmul(Bt,tmpD ),Bt.transpose() )\n",
    "V.shape # N,C,P,alpha,alpha\n",
    "V[0,0,0,:,:]\n"
   ]
  },
  {
   "cell_type": "code",
   "execution_count": 78,
   "metadata": {},
   "outputs": [
    {
     "data": {
      "text/plain": [
       "(1, 16, 1024, 6, 6)"
      ]
     },
     "execution_count": 78,
     "metadata": {},
     "output_type": "execute_result"
    }
   ],
   "source": [
    "U = U.reshape(K,C,alpha*alpha)\n",
    "V = V.reshape(N,C,P,alpha*alpha)\n",
    "M = []\n",
    "for n in range(N):\n",
    "    for k in range(K):\n",
    "        for p in range(P):\n",
    "            M.append( np.sum(U[k,:,:]*V[n,:,p,:],axis=0 )  )\n",
    "M = np.array(M)\n",
    "M = M.reshape([N,K,P,alpha,alpha])\n",
    "M.shape\n",
    "# M[0,0,0,:,:]"
   ]
  },
  {
   "cell_type": "code",
   "execution_count": 79,
   "metadata": {},
   "outputs": [
    {
     "name": "stdout",
     "output_type": "stream",
     "text": [
      "[[27. 27. 27. 27.]\n",
      " [27. 27. 27. 27.]\n",
      " [27. 27. 27. 27.]\n",
      " [27. 27. 27. 27.]]\n"
     ]
    },
    {
     "data": {
      "text/plain": [
       "array([27., 27., 27., 27., 27., 27., 27., 27., 27., 27., 27., 27., 27.,\n",
       "       27., 27., 27., 27., 27., 27., 27., 27., 27., 27., 27., 27., 27.,\n",
       "       27., 27., 27., 27., 27., 27., 27., 27., 27., 27., 27., 27., 27.,\n",
       "       27., 27., 27., 27., 27., 27., 27., 27., 27., 27., 27., 27., 27.,\n",
       "       27., 27., 27., 27., 27., 27., 27., 27., 27., 27., 27., 27., 27.,\n",
       "       27., 27., 27., 27., 27., 27., 27., 27., 27., 27., 27., 27., 27.,\n",
       "       27., 27., 27., 27., 27., 27., 27., 27., 27., 27., 27., 27., 27.,\n",
       "       27., 27., 27., 27., 27., 27., 27., 27., 27., 27., 27., 27., 27.,\n",
       "       27., 27., 27., 27., 27., 27., 27., 27., 27., 27., 27., 27., 27.,\n",
       "       27., 27., 27., 27., 27., 27., 27., 27., 27.])"
      ]
     },
     "execution_count": 79,
     "metadata": {},
     "output_type": "execute_result"
    }
   ],
   "source": [
    "At = np.array([\n",
    "    [1,1,1,1,1,0],\n",
    "    [0,1,-1,2,-2,0],\n",
    "    [0,1,1,4,4,0],\n",
    "    [0,1,-1,8,-8,1]\n",
    "])\n",
    "\n",
    "Y=[]\n",
    "for n in range(N):\n",
    "    for k in range(K):\n",
    "        for p in range(P):\n",
    "            Y.append( np.matmul( np.matmul(At,M[n,k,p]),At.transpose() ) )\n",
    "Y = np.array(Y)\n",
    "Y = Y.reshape([N,K,BLOCK_PER_COLUMN,BLOCK_PER_ROW,m,m])\n",
    "print(Y[0,0,0,0,:,:])\n",
    "Y = np.transpose(Y,(0,1,2,4,3,5) )\n",
    "Y = Y.reshape([N,K,BLOCK_PER_COLUMN*m,BLOCK_PER_ROW*m])\n",
    "Y = Y[:,:,:newH,:newW]\n",
    "Y[0,0,0,:]"
   ]
  },
  {
   "cell_type": "code",
   "execution_count": 80,
   "metadata": {},
   "outputs": [
    {
     "data": {
      "text/plain": [
       "(1, 16, 126, 126)"
      ]
     },
     "execution_count": 80,
     "metadata": {},
     "output_type": "execute_result"
    }
   ],
   "source": [
    "dTensor = torch.Tensor(d)\n",
    "gTensor = torch.Tensor(g)\n",
    "result = torch.nn.functional.conv2d(dTensor,gTensor,)\n",
    "result = result.numpy()\n",
    "result.shape"
   ]
  },
  {
   "cell_type": "code",
   "execution_count": 81,
   "metadata": {},
   "outputs": [
    {
     "data": {
      "text/plain": [
       "0.0"
      ]
     },
     "execution_count": 81,
     "metadata": {},
     "output_type": "execute_result"
    }
   ],
   "source": [
    "error = np.max( np.abs(Y-result) )\n",
    "error"
   ]
  }
 ],
 "metadata": {
  "interpreter": {
   "hash": "44442aa7d628946bfda2c8b77440b55f1a8a29038a122c37cd8e1cf9b783377e"
  },
  "kernelspec": {
   "display_name": "Python 3.7.7 64-bit ('pytorch': conda)",
   "language": "python",
   "name": "python3"
  },
  "language_info": {
   "codemirror_mode": {
    "name": "ipython",
    "version": 3
   },
   "file_extension": ".py",
   "mimetype": "text/x-python",
   "name": "python",
   "nbconvert_exporter": "python",
   "pygments_lexer": "ipython3",
   "version": "3.7.7"
  },
  "orig_nbformat": 4
 },
 "nbformat": 4,
 "nbformat_minor": 2
}
